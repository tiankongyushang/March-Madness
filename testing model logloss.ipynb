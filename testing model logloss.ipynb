{
 "cells": [
  {
   "cell_type": "code",
   "execution_count": 1,
   "metadata": {},
   "outputs": [],
   "source": [
    "from sklearn.metrics import log_loss\n",
    "import numpy as np\n",
    "import pandas as pd"
   ]
  },
  {
   "cell_type": "code",
   "execution_count": 2,
   "metadata": {},
   "outputs": [],
   "source": [
    "data = pd.read_csv('testing model.csv')"
   ]
  },
  {
   "cell_type": "code",
   "execution_count": 3,
   "metadata": {},
   "outputs": [
    {
     "data": {
      "text/html": [
       "<div>\n",
       "<style scoped>\n",
       "    .dataframe tbody tr th:only-of-type {\n",
       "        vertical-align: middle;\n",
       "    }\n",
       "\n",
       "    .dataframe tbody tr th {\n",
       "        vertical-align: top;\n",
       "    }\n",
       "\n",
       "    .dataframe thead th {\n",
       "        text-align: right;\n",
       "    }\n",
       "</style>\n",
       "<table border=\"1\" class=\"dataframe\">\n",
       "  <thead>\n",
       "    <tr style=\"text-align: right;\">\n",
       "      <th></th>\n",
       "      <th>pt_career_overall_losses difference</th>\n",
       "      <th>pt_coach_season_losses difference</th>\n",
       "      <th>fg2pct difference</th>\n",
       "      <th>fg3pct difference</th>\n",
       "      <th>oppfg2pct difference</th>\n",
       "      <th>oppfg3pct difference</th>\n",
       "      <th>oppblockpct difference</th>\n",
       "      <th>stlrate difference</th>\n",
       "      <th>oppstlrate difference</th>\n",
       "      <th>oe difference</th>\n",
       "      <th>adjoe difference</th>\n",
       "      <th>Outcome</th>\n",
       "      <th>$L-Outcome</th>\n",
       "      <th>$LP-Outcome</th>\n",
       "    </tr>\n",
       "  </thead>\n",
       "  <tbody>\n",
       "    <tr>\n",
       "      <th>0</th>\n",
       "      <td>112</td>\n",
       "      <td>-1</td>\n",
       "      <td>3.162</td>\n",
       "      <td>-8.147</td>\n",
       "      <td>3.764</td>\n",
       "      <td>-2.433</td>\n",
       "      <td>-0.101</td>\n",
       "      <td>0.051</td>\n",
       "      <td>-0.005</td>\n",
       "      <td>-1.273</td>\n",
       "      <td>-1.477</td>\n",
       "      <td>1</td>\n",
       "      <td>1</td>\n",
       "      <td>0.736</td>\n",
       "    </tr>\n",
       "    <tr>\n",
       "      <th>1</th>\n",
       "      <td>277</td>\n",
       "      <td>-1</td>\n",
       "      <td>4.872</td>\n",
       "      <td>-2.105</td>\n",
       "      <td>-4.729</td>\n",
       "      <td>-4.754</td>\n",
       "      <td>0.646</td>\n",
       "      <td>0.003</td>\n",
       "      <td>-0.002</td>\n",
       "      <td>0.710</td>\n",
       "      <td>1.584</td>\n",
       "      <td>1</td>\n",
       "      <td>1</td>\n",
       "      <td>0.713</td>\n",
       "    </tr>\n",
       "    <tr>\n",
       "      <th>2</th>\n",
       "      <td>189</td>\n",
       "      <td>-3</td>\n",
       "      <td>4.110</td>\n",
       "      <td>-9.214</td>\n",
       "      <td>-3.073</td>\n",
       "      <td>-3.828</td>\n",
       "      <td>-1.883</td>\n",
       "      <td>0.025</td>\n",
       "      <td>0.010</td>\n",
       "      <td>-0.820</td>\n",
       "      <td>1.653</td>\n",
       "      <td>1</td>\n",
       "      <td>1</td>\n",
       "      <td>0.747</td>\n",
       "    </tr>\n",
       "    <tr>\n",
       "      <th>3</th>\n",
       "      <td>80</td>\n",
       "      <td>-5</td>\n",
       "      <td>5.077</td>\n",
       "      <td>-7.570</td>\n",
       "      <td>-3.580</td>\n",
       "      <td>-5.936</td>\n",
       "      <td>-2.301</td>\n",
       "      <td>0.011</td>\n",
       "      <td>0.003</td>\n",
       "      <td>1.252</td>\n",
       "      <td>2.708</td>\n",
       "      <td>1</td>\n",
       "      <td>1</td>\n",
       "      <td>0.719</td>\n",
       "    </tr>\n",
       "    <tr>\n",
       "      <th>4</th>\n",
       "      <td>93</td>\n",
       "      <td>-5</td>\n",
       "      <td>6.963</td>\n",
       "      <td>-5.116</td>\n",
       "      <td>0.243</td>\n",
       "      <td>-2.629</td>\n",
       "      <td>-1.851</td>\n",
       "      <td>0.062</td>\n",
       "      <td>-0.019</td>\n",
       "      <td>5.850</td>\n",
       "      <td>6.258</td>\n",
       "      <td>1</td>\n",
       "      <td>1</td>\n",
       "      <td>0.563</td>\n",
       "    </tr>\n",
       "  </tbody>\n",
       "</table>\n",
       "</div>"
      ],
      "text/plain": [
       "   pt_career_overall_losses difference  pt_coach_season_losses difference  \\\n",
       "0                                  112                                 -1   \n",
       "1                                  277                                 -1   \n",
       "2                                  189                                 -3   \n",
       "3                                   80                                 -5   \n",
       "4                                   93                                 -5   \n",
       "\n",
       "   fg2pct difference  fg3pct difference  oppfg2pct difference  \\\n",
       "0              3.162             -8.147                 3.764   \n",
       "1              4.872             -2.105                -4.729   \n",
       "2              4.110             -9.214                -3.073   \n",
       "3              5.077             -7.570                -3.580   \n",
       "4              6.963             -5.116                 0.243   \n",
       "\n",
       "   oppfg3pct difference  oppblockpct difference  stlrate difference  \\\n",
       "0                -2.433                  -0.101               0.051   \n",
       "1                -4.754                   0.646               0.003   \n",
       "2                -3.828                  -1.883               0.025   \n",
       "3                -5.936                  -2.301               0.011   \n",
       "4                -2.629                  -1.851               0.062   \n",
       "\n",
       "   oppstlrate difference  oe difference  adjoe difference  Outcome  \\\n",
       "0                 -0.005         -1.273            -1.477        1   \n",
       "1                 -0.002          0.710             1.584        1   \n",
       "2                  0.010         -0.820             1.653        1   \n",
       "3                  0.003          1.252             2.708        1   \n",
       "4                 -0.019          5.850             6.258        1   \n",
       "\n",
       "   $L-Outcome  $LP-Outcome  \n",
       "0           1        0.736  \n",
       "1           1        0.713  \n",
       "2           1        0.747  \n",
       "3           1        0.719  \n",
       "4           1        0.563  "
      ]
     },
     "execution_count": 3,
     "metadata": {},
     "output_type": "execute_result"
    }
   ],
   "source": [
    "data.head()"
   ]
  },
  {
   "cell_type": "code",
   "execution_count": 4,
   "metadata": {},
   "outputs": [
    {
     "data": {
      "text/plain": [
       "0.7753437760414016"
      ]
     },
     "execution_count": 4,
     "metadata": {},
     "output_type": "execute_result"
    }
   ],
   "source": [
    "log_loss(data['Outcome'], data['$LP-Outcome'])"
   ]
  },
  {
   "cell_type": "code",
   "execution_count": 5,
   "metadata": {},
   "outputs": [],
   "source": [
    "from sklearn.metrics import (auc, classification_report, roc_auc_score, accuracy_score,\n",
    "                             f1_score, log_loss, roc_curve, confusion_matrix, precision_score, recall_score)"
   ]
  },
  {
   "cell_type": "code",
   "execution_count": 6,
   "metadata": {},
   "outputs": [
    {
     "data": {
      "text/plain": [
       "0.36435469710272167"
      ]
     },
     "execution_count": 6,
     "metadata": {},
     "output_type": "execute_result"
    }
   ],
   "source": [
    "accuracy_score(data['Outcome'], data['$L-Outcome'])"
   ]
  },
  {
   "cell_type": "code",
   "execution_count": null,
   "metadata": {},
   "outputs": [],
   "source": []
  }
 ],
 "metadata": {
  "kernelspec": {
   "display_name": "Python 3",
   "language": "python",
   "name": "python3"
  },
  "language_info": {
   "codemirror_mode": {
    "name": "ipython",
    "version": 3
   },
   "file_extension": ".py",
   "mimetype": "text/x-python",
   "name": "python",
   "nbconvert_exporter": "python",
   "pygments_lexer": "ipython3",
   "version": "3.6.5"
  }
 },
 "nbformat": 4,
 "nbformat_minor": 2
}
